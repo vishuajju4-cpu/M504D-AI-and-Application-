{
 "cells": [
  {
   "cell_type": "markdown",
   "id": "a0e6e369-7993-4c15-9484-e98c5011a657",
   "metadata": {},
   "source": [
    "# M504 - AI And Applications"
   ]
  },
  {
   "cell_type": "markdown",
   "id": "49b85a96-75c8-4aed-919e-a45931dd156d",
   "metadata": {},
   "source": [
    "## Student: Ajay Yadav\n",
    "## Student Number: GH1040814\n",
    "## Professor: Dr Eng. Sami Alsalamin"
   ]
  },
  {
   "cell_type": "markdown",
   "id": "7a85643b-bb09-4ec5-b6ed-feaf08dfdfa1",
   "metadata": {},
   "source": [
    "   # Nike Sales Analysis and Insights "
   ]
  },
  {
   "cell_type": "markdown",
   "id": "092dd697-78fa-45a7-bf23-153abe10353b",
   "metadata": {},
   "source": [
    "### Illustration\n",
    "\n",
    "#### The goal of this project is to employ AI and data analysis tools to examine Nike's retail and online sales data. The dataset, which contains purposeful errors, duplicates, and missing information, is synthetic yet aims to look like actual company sales records. Cleaning the dataset, investigating sales trends, and producing insights that support decision-making are the objectives of this project. This study shows how raw and disorganized data may be turned into valuable business insights through data pretreatment, exploratory data analysis (EDA), and visualization.\n"
   ]
  },
  {
   "cell_type": "markdown",
   "id": "08c9a876-bb25-4791-9240-1c458df94e5d",
   "metadata": {},
   "source": [
    "### Definition of the Problem and Business Context\n",
    "\n",
    "#### Nike is well known in athletic gear and footwear worldwide. Nike as a brand produces a lot of sales data every day from both physical shops and online platforms, just like any other retail business. Raw sales data, however, is frequently disorganized, with missing information, inconsistent formats, and duplicates.Unclean data makes it difficult for companies to analyses sales performance, comprehend client behaviour, or develop future plans.\n"
   ]
  },
  {
   "cell_type": "markdown",
   "id": "9a8a1efd-f3ce-486b-bf3f-49a1c40f5814",
   "metadata": {},
   "source": [
    "### Approach\n",
    "\n",
    "#### Data Understanding: Examine the properties and structure of the dataset, and look for problems such as duplicates, inconsistent entries, and null values.\n",
    "\n",
    "#### Data cleaning: Data cleaning includes addressing missing values, eliminating duplicates, correcting inconsistent formats (such as dates or product names), and making sure the data is prepared for analysis.\n",
    "\n",
    "#### Exploratory Data Analysis (EDA): Examine sales patterns by product category, region, sales channel (online vs. retail), and time period using univariate and multivariate analysis.\n",
    "\n",
    "#### Visualization & Insights: Display trends like best-selling items, seasonal demand, and revenue distribution using charts, graphs, and dashboards.\n",
    "\n",
    "#### Conclusion: Provide a summary of the results and demonstrate how using clean data can lead to more informed business decisions.\n"
   ]
  },
  {
   "cell_type": "markdown",
   "id": "a1a4cdad-a08e-447e-bb32-23efc4e77535",
   "metadata": {},
   "source": [
    "## Github and Data Set Link\n",
    "### Data set link\n",
    "https://www.kaggle.com/datasets/nayakganesh007/nike-sales-uncleaned-dataset/data\n",
    "\n",
    "## Github link\n",
    "https://github.com/vishuajju4-cpu/M504D-AI-and-Application-\n"
   ]
  },
  {
   "cell_type": "markdown",
   "id": "f879571e-9542-421c-8482-940e51f4aa96",
   "metadata": {},
   "source": [
    "### Data Preperation\n",
    "##### numpy  used for fast mathematical and numerical operations. Helps to work with arrays, matrices, and large datasets efficiently.\n",
    "##### pandas makes it easy to handle tables and spreadsheets in Python. It is used for cleaning, transforming, and analysing data.\n",
    "##### matplotlib.pyplot used to create charts and graphs such as line plots, bar graphs, pie charts, etc. It helps us visualize data.\n",
    "##### seaborn built on top of Matplotlib that makes beautiful and easy-to-understand visualizations like heatmaps, box plots, and advanced statistical graphs"
   ]
  },
  {
   "cell_type": "code",
   "execution_count": 2,
   "id": "9deffb0f-4424-40b5-afeb-efbc9abd11c6",
   "metadata": {
    "jp-MarkdownHeadingCollapsed": true
   },
   "outputs": [],
   "source": [
    "import numpy as np\n",
    "import pandas as pd\n",
    "import matplotlib.pyplot as plt\n",
    "import seaborn as sns"
   ]
  },
  {
   "cell_type": "markdown",
   "id": "5c89a7d6-1bd2-4fff-8728-83276980ad85",
   "metadata": {},
   "source": [
    "# Data Understanding \n",
    "## Load Dataset"
   ]
  },
  {
   "cell_type": "code",
   "execution_count": 3,
   "id": "af13e0bf-042f-4a97-840f-df54fb9f91fa",
   "metadata": {},
   "outputs": [
    {
     "data": {
      "text/html": [
       "<div>\n",
       "<style scoped>\n",
       "    .dataframe tbody tr th:only-of-type {\n",
       "        vertical-align: middle;\n",
       "    }\n",
       "\n",
       "    .dataframe tbody tr th {\n",
       "        vertical-align: top;\n",
       "    }\n",
       "\n",
       "    .dataframe thead th {\n",
       "        text-align: right;\n",
       "    }\n",
       "</style>\n",
       "<table border=\"1\" class=\"dataframe\">\n",
       "  <thead>\n",
       "    <tr style=\"text-align: right;\">\n",
       "      <th></th>\n",
       "      <th>Order_ID</th>\n",
       "      <th>Gender_Category</th>\n",
       "      <th>Product_Line</th>\n",
       "      <th>Product_Name</th>\n",
       "      <th>Size</th>\n",
       "      <th>Units_Sold</th>\n",
       "      <th>MRP</th>\n",
       "      <th>Discount_Applied</th>\n",
       "      <th>Revenue</th>\n",
       "      <th>Order_Date</th>\n",
       "      <th>Sales_Channel</th>\n",
       "      <th>Region</th>\n",
       "      <th>Profit</th>\n",
       "    </tr>\n",
       "  </thead>\n",
       "  <tbody>\n",
       "    <tr>\n",
       "      <th>0</th>\n",
       "      <td>2000</td>\n",
       "      <td>Kids</td>\n",
       "      <td>Training</td>\n",
       "      <td>SuperRep Go</td>\n",
       "      <td>M</td>\n",
       "      <td>NaN</td>\n",
       "      <td>NaN</td>\n",
       "      <td>0.47</td>\n",
       "      <td>0.0</td>\n",
       "      <td>2024-03-09</td>\n",
       "      <td>Online</td>\n",
       "      <td>bengaluru</td>\n",
       "      <td>-770.45</td>\n",
       "    </tr>\n",
       "    <tr>\n",
       "      <th>1</th>\n",
       "      <td>2001</td>\n",
       "      <td>Women</td>\n",
       "      <td>Soccer</td>\n",
       "      <td>Tiempo Legend</td>\n",
       "      <td>M</td>\n",
       "      <td>3.0</td>\n",
       "      <td>4957.93</td>\n",
       "      <td>NaN</td>\n",
       "      <td>0.0</td>\n",
       "      <td>2024-07-09</td>\n",
       "      <td>Retail</td>\n",
       "      <td>Hyd</td>\n",
       "      <td>-112.53</td>\n",
       "    </tr>\n",
       "    <tr>\n",
       "      <th>2</th>\n",
       "      <td>2002</td>\n",
       "      <td>Women</td>\n",
       "      <td>Soccer</td>\n",
       "      <td>Premier III</td>\n",
       "      <td>M</td>\n",
       "      <td>4.0</td>\n",
       "      <td>NaN</td>\n",
       "      <td>NaN</td>\n",
       "      <td>0.0</td>\n",
       "      <td>NaN</td>\n",
       "      <td>Retail</td>\n",
       "      <td>Mumbai</td>\n",
       "      <td>3337.34</td>\n",
       "    </tr>\n",
       "    <tr>\n",
       "      <th>3</th>\n",
       "      <td>2003</td>\n",
       "      <td>Kids</td>\n",
       "      <td>Lifestyle</td>\n",
       "      <td>Blazer Mid</td>\n",
       "      <td>L</td>\n",
       "      <td>NaN</td>\n",
       "      <td>9673.57</td>\n",
       "      <td>NaN</td>\n",
       "      <td>0.0</td>\n",
       "      <td>04-10-2024</td>\n",
       "      <td>Online</td>\n",
       "      <td>Pune</td>\n",
       "      <td>3376.85</td>\n",
       "    </tr>\n",
       "    <tr>\n",
       "      <th>4</th>\n",
       "      <td>2004</td>\n",
       "      <td>Kids</td>\n",
       "      <td>Running</td>\n",
       "      <td>React Infinity</td>\n",
       "      <td>XL</td>\n",
       "      <td>NaN</td>\n",
       "      <td>NaN</td>\n",
       "      <td>NaN</td>\n",
       "      <td>0.0</td>\n",
       "      <td>2024/09/12</td>\n",
       "      <td>Retail</td>\n",
       "      <td>Delhi</td>\n",
       "      <td>187.89</td>\n",
       "    </tr>\n",
       "    <tr>\n",
       "      <th>...</th>\n",
       "      <td>...</td>\n",
       "      <td>...</td>\n",
       "      <td>...</td>\n",
       "      <td>...</td>\n",
       "      <td>...</td>\n",
       "      <td>...</td>\n",
       "      <td>...</td>\n",
       "      <td>...</td>\n",
       "      <td>...</td>\n",
       "      <td>...</td>\n",
       "      <td>...</td>\n",
       "      <td>...</td>\n",
       "      <td>...</td>\n",
       "    </tr>\n",
       "    <tr>\n",
       "      <th>2495</th>\n",
       "      <td>4495</td>\n",
       "      <td>Kids</td>\n",
       "      <td>Basketball</td>\n",
       "      <td>Kyrie Flytrap</td>\n",
       "      <td>XL</td>\n",
       "      <td>3.0</td>\n",
       "      <td>NaN</td>\n",
       "      <td>NaN</td>\n",
       "      <td>0.0</td>\n",
       "      <td>2025-05-14</td>\n",
       "      <td>Online</td>\n",
       "      <td>Pune</td>\n",
       "      <td>2.97</td>\n",
       "    </tr>\n",
       "    <tr>\n",
       "      <th>2496</th>\n",
       "      <td>4496</td>\n",
       "      <td>Men</td>\n",
       "      <td>Basketball</td>\n",
       "      <td>Kyrie Flytrap</td>\n",
       "      <td>L</td>\n",
       "      <td>-1.0</td>\n",
       "      <td>NaN</td>\n",
       "      <td>NaN</td>\n",
       "      <td>0.0</td>\n",
       "      <td>NaN</td>\n",
       "      <td>Online</td>\n",
       "      <td>Hyd</td>\n",
       "      <td>-487.36</td>\n",
       "    </tr>\n",
       "    <tr>\n",
       "      <th>2497</th>\n",
       "      <td>4497</td>\n",
       "      <td>Men</td>\n",
       "      <td>Soccer</td>\n",
       "      <td>Tiempo Legend</td>\n",
       "      <td>7</td>\n",
       "      <td>NaN</td>\n",
       "      <td>6647.60</td>\n",
       "      <td>0.52</td>\n",
       "      <td>0.0</td>\n",
       "      <td>02-07-2025</td>\n",
       "      <td>Retail</td>\n",
       "      <td>Bangalore</td>\n",
       "      <td>-918.14</td>\n",
       "    </tr>\n",
       "    <tr>\n",
       "      <th>2498</th>\n",
       "      <td>4498</td>\n",
       "      <td>Women</td>\n",
       "      <td>Training</td>\n",
       "      <td>ZoomX Invincible</td>\n",
       "      <td>NaN</td>\n",
       "      <td>4.0</td>\n",
       "      <td>5358.70</td>\n",
       "      <td>NaN</td>\n",
       "      <td>0.0</td>\n",
       "      <td>11-12-2024</td>\n",
       "      <td>Online</td>\n",
       "      <td>Mumbai</td>\n",
       "      <td>3352.29</td>\n",
       "    </tr>\n",
       "    <tr>\n",
       "      <th>2499</th>\n",
       "      <td>4499</td>\n",
       "      <td>Women</td>\n",
       "      <td>Running</td>\n",
       "      <td>Air Zoom</td>\n",
       "      <td>M</td>\n",
       "      <td>NaN</td>\n",
       "      <td>5550.99</td>\n",
       "      <td>NaN</td>\n",
       "      <td>0.0</td>\n",
       "      <td>23-11-2024</td>\n",
       "      <td>Retail</td>\n",
       "      <td>Mumbai</td>\n",
       "      <td>2453.57</td>\n",
       "    </tr>\n",
       "  </tbody>\n",
       "</table>\n",
       "<p>2500 rows × 13 columns</p>\n",
       "</div>"
      ],
      "text/plain": [
       "      Order_ID Gender_Category Product_Line      Product_Name Size  \\\n",
       "0         2000            Kids     Training       SuperRep Go    M   \n",
       "1         2001           Women       Soccer     Tiempo Legend    M   \n",
       "2         2002           Women       Soccer       Premier III    M   \n",
       "3         2003            Kids    Lifestyle        Blazer Mid    L   \n",
       "4         2004            Kids      Running    React Infinity   XL   \n",
       "...        ...             ...          ...               ...  ...   \n",
       "2495      4495            Kids   Basketball     Kyrie Flytrap   XL   \n",
       "2496      4496             Men   Basketball     Kyrie Flytrap    L   \n",
       "2497      4497             Men       Soccer     Tiempo Legend    7   \n",
       "2498      4498           Women     Training  ZoomX Invincible  NaN   \n",
       "2499      4499           Women      Running          Air Zoom    M   \n",
       "\n",
       "      Units_Sold      MRP  Discount_Applied  Revenue  Order_Date  \\\n",
       "0            NaN      NaN              0.47      0.0  2024-03-09   \n",
       "1            3.0  4957.93               NaN      0.0  2024-07-09   \n",
       "2            4.0      NaN               NaN      0.0         NaN   \n",
       "3            NaN  9673.57               NaN      0.0  04-10-2024   \n",
       "4            NaN      NaN               NaN      0.0  2024/09/12   \n",
       "...          ...      ...               ...      ...         ...   \n",
       "2495         3.0      NaN               NaN      0.0  2025-05-14   \n",
       "2496        -1.0      NaN               NaN      0.0         NaN   \n",
       "2497         NaN  6647.60              0.52      0.0  02-07-2025   \n",
       "2498         4.0  5358.70               NaN      0.0  11-12-2024   \n",
       "2499         NaN  5550.99               NaN      0.0  23-11-2024   \n",
       "\n",
       "     Sales_Channel     Region   Profit  \n",
       "0           Online  bengaluru  -770.45  \n",
       "1           Retail        Hyd  -112.53  \n",
       "2           Retail     Mumbai  3337.34  \n",
       "3           Online       Pune  3376.85  \n",
       "4           Retail      Delhi   187.89  \n",
       "...            ...        ...      ...  \n",
       "2495        Online       Pune     2.97  \n",
       "2496        Online        Hyd  -487.36  \n",
       "2497        Retail  Bangalore  -918.14  \n",
       "2498        Online     Mumbai  3352.29  \n",
       "2499        Retail     Mumbai  2453.57  \n",
       "\n",
       "[2500 rows x 13 columns]"
      ]
     },
     "execution_count": 3,
     "metadata": {},
     "output_type": "execute_result"
    }
   ],
   "source": [
    "df=pd.read_csv('C:\\AI_Application\\\\Nike_Sales_Uncleaned.csv')\n",
    "df"
   ]
  },
  {
   "cell_type": "markdown",
   "id": "fef3b835-e375-4ab0-b2c1-f15bc68a8430",
   "metadata": {},
   "source": [
    "## DataTypes of Columns"
   ]
  },
  {
   "cell_type": "code",
   "execution_count": 4,
   "id": "b14c9df1-27ea-4653-9ce7-fed113c55e18",
   "metadata": {},
   "outputs": [
    {
     "name": "stdout",
     "output_type": "stream",
     "text": [
      "<class 'pandas.core.frame.DataFrame'>\n",
      "RangeIndex: 2500 entries, 0 to 2499\n",
      "Data columns (total 13 columns):\n",
      " #   Column            Non-Null Count  Dtype  \n",
      "---  ------            --------------  -----  \n",
      " 0   Order_ID          2500 non-null   int64  \n",
      " 1   Gender_Category   2500 non-null   object \n",
      " 2   Product_Line      2500 non-null   object \n",
      " 3   Product_Name      2500 non-null   object \n",
      " 4   Size              1990 non-null   object \n",
      " 5   Units_Sold        1265 non-null   float64\n",
      " 6   MRP               1246 non-null   float64\n",
      " 7   Discount_Applied  832 non-null    float64\n",
      " 8   Revenue           2500 non-null   float64\n",
      " 9   Order_Date        1884 non-null   object \n",
      " 10  Sales_Channel     2500 non-null   object \n",
      " 11  Region            2500 non-null   object \n",
      " 12  Profit            2500 non-null   float64\n",
      "dtypes: float64(5), int64(1), object(7)\n",
      "memory usage: 254.0+ KB\n"
     ]
    }
   ],
   "source": [
    "df.info()"
   ]
  },
  {
   "cell_type": "markdown",
   "id": "eb20ed50-9e81-4bf4-b3aa-746c0d37859c",
   "metadata": {},
   "source": [
    "# Shape of Data"
   ]
  },
  {
   "cell_type": "markdown",
   "id": "4fcf407f-bb8a-49b9-af15-879ff79ed62b",
   "metadata": {},
   "source": [
    "### Checking Null Values"
   ]
  },
  {
   "cell_type": "code",
   "execution_count": 5,
   "id": "4168d848-b97c-47c2-a46d-e36fd2f817ad",
   "metadata": {},
   "outputs": [
    {
     "data": {
      "text/plain": [
       "Order_ID               0\n",
       "Gender_Category        0\n",
       "Product_Line           0\n",
       "Product_Name           0\n",
       "Size                 510\n",
       "Units_Sold          1235\n",
       "MRP                 1254\n",
       "Discount_Applied    1668\n",
       "Revenue                0\n",
       "Order_Date           616\n",
       "Sales_Channel          0\n",
       "Region                 0\n",
       "Profit                 0\n",
       "dtype: int64"
      ]
     },
     "execution_count": 5,
     "metadata": {},
     "output_type": "execute_result"
    }
   ],
   "source": [
    "df.isnull().sum()"
   ]
  },
  {
   "cell_type": "markdown",
   "id": "7c2dd5c1-4be8-418c-9939-a648caae501a",
   "metadata": {},
   "source": [
    "##### It can be seen that in columns like Size have 510, Units_sold have 1235, MRP have 1254, Discount_applied have 1668, and order_date have 616 null values."
   ]
  },
  {
   "cell_type": "markdown",
   "id": "e4d5919f-7aae-4172-bfed-35a4774d5d8d",
   "metadata": {},
   "source": [
    "### then we will describe our data set"
   ]
  },
  {
   "cell_type": "code",
   "execution_count": 6,
   "id": "a54af979-63fd-4490-9a1d-769ebe75505a",
   "metadata": {},
   "outputs": [
    {
     "data": {
      "text/html": [
       "<div>\n",
       "<style scoped>\n",
       "    .dataframe tbody tr th:only-of-type {\n",
       "        vertical-align: middle;\n",
       "    }\n",
       "\n",
       "    .dataframe tbody tr th {\n",
       "        vertical-align: top;\n",
       "    }\n",
       "\n",
       "    .dataframe thead th {\n",
       "        text-align: right;\n",
       "    }\n",
       "</style>\n",
       "<table border=\"1\" class=\"dataframe\">\n",
       "  <thead>\n",
       "    <tr style=\"text-align: right;\">\n",
       "      <th></th>\n",
       "      <th>Order_ID</th>\n",
       "      <th>Units_Sold</th>\n",
       "      <th>MRP</th>\n",
       "      <th>Discount_Applied</th>\n",
       "      <th>Revenue</th>\n",
       "      <th>Profit</th>\n",
       "    </tr>\n",
       "  </thead>\n",
       "  <tbody>\n",
       "    <tr>\n",
       "      <th>count</th>\n",
       "      <td>2500.000000</td>\n",
       "      <td>1265.000000</td>\n",
       "      <td>1246.000000</td>\n",
       "      <td>832.000000</td>\n",
       "      <td>2500.000000</td>\n",
       "      <td>2500.000000</td>\n",
       "    </tr>\n",
       "    <tr>\n",
       "      <th>mean</th>\n",
       "      <td>3194.352400</td>\n",
       "      <td>1.482213</td>\n",
       "      <td>6039.863395</td>\n",
       "      <td>0.631022</td>\n",
       "      <td>274.873716</td>\n",
       "      <td>1376.012848</td>\n",
       "    </tr>\n",
       "    <tr>\n",
       "      <th>std</th>\n",
       "      <td>749.972638</td>\n",
       "      <td>1.696947</td>\n",
       "      <td>2315.746826</td>\n",
       "      <td>0.365500</td>\n",
       "      <td>2023.773550</td>\n",
       "      <td>1478.671013</td>\n",
       "    </tr>\n",
       "    <tr>\n",
       "      <th>min</th>\n",
       "      <td>2000.000000</td>\n",
       "      <td>-1.000000</td>\n",
       "      <td>2006.630000</td>\n",
       "      <td>0.000000</td>\n",
       "      <td>-7561.590000</td>\n",
       "      <td>-1199.450000</td>\n",
       "    </tr>\n",
       "    <tr>\n",
       "      <th>25%</th>\n",
       "      <td>2534.750000</td>\n",
       "      <td>0.000000</td>\n",
       "      <td>4038.902500</td>\n",
       "      <td>0.320000</td>\n",
       "      <td>0.000000</td>\n",
       "      <td>93.532500</td>\n",
       "    </tr>\n",
       "    <tr>\n",
       "      <th>50%</th>\n",
       "      <td>3192.500000</td>\n",
       "      <td>2.000000</td>\n",
       "      <td>6110.030000</td>\n",
       "      <td>0.615000</td>\n",
       "      <td>0.000000</td>\n",
       "      <td>1371.385000</td>\n",
       "    </tr>\n",
       "    <tr>\n",
       "      <th>75%</th>\n",
       "      <td>3841.250000</td>\n",
       "      <td>3.000000</td>\n",
       "      <td>8022.187500</td>\n",
       "      <td>0.962500</td>\n",
       "      <td>0.000000</td>\n",
       "      <td>2660.645000</td>\n",
       "    </tr>\n",
       "    <tr>\n",
       "      <th>max</th>\n",
       "      <td>4499.000000</td>\n",
       "      <td>4.000000</td>\n",
       "      <td>9996.220000</td>\n",
       "      <td>1.250000</td>\n",
       "      <td>37169.350000</td>\n",
       "      <td>3999.210000</td>\n",
       "    </tr>\n",
       "  </tbody>\n",
       "</table>\n",
       "</div>"
      ],
      "text/plain": [
       "          Order_ID   Units_Sold          MRP  Discount_Applied       Revenue  \\\n",
       "count  2500.000000  1265.000000  1246.000000        832.000000   2500.000000   \n",
       "mean   3194.352400     1.482213  6039.863395          0.631022    274.873716   \n",
       "std     749.972638     1.696947  2315.746826          0.365500   2023.773550   \n",
       "min    2000.000000    -1.000000  2006.630000          0.000000  -7561.590000   \n",
       "25%    2534.750000     0.000000  4038.902500          0.320000      0.000000   \n",
       "50%    3192.500000     2.000000  6110.030000          0.615000      0.000000   \n",
       "75%    3841.250000     3.000000  8022.187500          0.962500      0.000000   \n",
       "max    4499.000000     4.000000  9996.220000          1.250000  37169.350000   \n",
       "\n",
       "            Profit  \n",
       "count  2500.000000  \n",
       "mean   1376.012848  \n",
       "std    1478.671013  \n",
       "min   -1199.450000  \n",
       "25%      93.532500  \n",
       "50%    1371.385000  \n",
       "75%    2660.645000  \n",
       "max    3999.210000  "
      ]
     },
     "execution_count": 6,
     "metadata": {},
     "output_type": "execute_result"
    }
   ],
   "source": [
    "df.describe()"
   ]
  },
  {
   "cell_type": "markdown",
   "id": "b986ac93-fb59-45ad-a3cb-a0a32e3b7389",
   "metadata": {},
   "source": [
    "# Checking Duplicates Values"
   ]
  },
  {
   "cell_type": "code",
   "execution_count": 8,
   "id": "71f80e32-f396-45a2-b221-9e4b5a74ddf1",
   "metadata": {},
   "outputs": [
    {
     "data": {
      "text/plain": [
       "np.int64(0)"
      ]
     },
     "execution_count": 8,
     "metadata": {},
     "output_type": "execute_result"
    }
   ],
   "source": [
    "df.duplicated().sum()"
   ]
  },
  {
   "cell_type": "markdown",
   "id": "86745194-a782-4dc8-a0cf-cfb9368bfa37",
   "metadata": {},
   "source": [
    "# Unique Values in my data"
   ]
  },
  {
   "cell_type": "code",
   "execution_count": 9,
   "id": "9ddf5dea-933f-426e-9e81-5a2710e58b4d",
   "metadata": {},
   "outputs": [
    {
     "data": {
      "text/plain": [
       "Order_ID            2386\n",
       "Gender_Category        3\n",
       "Product_Line           5\n",
       "Product_Name          20\n",
       "Size                  10\n",
       "Units_Sold             6\n",
       "MRP                 1244\n",
       "Discount_Applied     126\n",
       "Revenue              167\n",
       "Order_Date          1008\n",
       "Sales_Channel          2\n",
       "Region                 9\n",
       "Profit              2494\n",
       "dtype: int64"
      ]
     },
     "execution_count": 9,
     "metadata": {},
     "output_type": "execute_result"
    }
   ],
   "source": [
    "df.nunique()"
   ]
  },
  {
   "cell_type": "markdown",
   "id": "07a5d406-5a26-42e1-9dbc-cb1cf7ae38de",
   "metadata": {},
   "source": [
    "# Data Cleaning"
   ]
  },
  {
   "cell_type": "markdown",
   "id": "ccf74ea5-6ec8-4154-a609-bbb07ac1ef49",
   "metadata": {},
   "source": [
    "### Dealing with missing values"
   ]
  },
  {
   "cell_type": "code",
   "execution_count": 10,
   "id": "4de4efda-9145-4af0-a768-6ee7d09c1db8",
   "metadata": {},
   "outputs": [
    {
     "data": {
      "text/plain": [
       "Order_ID               0\n",
       "Gender_Category        0\n",
       "Product_Line           0\n",
       "Product_Name           0\n",
       "Size                 510\n",
       "Units_Sold          1235\n",
       "MRP                 1254\n",
       "Discount_Applied    1668\n",
       "Revenue                0\n",
       "Order_Date           616\n",
       "Sales_Channel          0\n",
       "Region                 0\n",
       "Profit                 0\n",
       "dtype: int64"
      ]
     },
     "execution_count": 10,
     "metadata": {},
     "output_type": "execute_result"
    }
   ],
   "source": [
    "df.isnull().sum()"
   ]
  },
  {
   "cell_type": "code",
   "execution_count": 11,
   "id": "fdc1936f-754b-40ac-98a3-defa39e8aad7",
   "metadata": {},
   "outputs": [
    {
     "data": {
      "text/html": [
       "<div>\n",
       "<style scoped>\n",
       "    .dataframe tbody tr th:only-of-type {\n",
       "        vertical-align: middle;\n",
       "    }\n",
       "\n",
       "    .dataframe tbody tr th {\n",
       "        vertical-align: top;\n",
       "    }\n",
       "\n",
       "    .dataframe thead th {\n",
       "        text-align: right;\n",
       "    }\n",
       "</style>\n",
       "<table border=\"1\" class=\"dataframe\">\n",
       "  <thead>\n",
       "    <tr style=\"text-align: right;\">\n",
       "      <th></th>\n",
       "      <th>Order_ID</th>\n",
       "      <th>Gender_Category</th>\n",
       "      <th>Product_Line</th>\n",
       "      <th>Product_Name</th>\n",
       "      <th>Size</th>\n",
       "      <th>Units_Sold</th>\n",
       "      <th>MRP</th>\n",
       "      <th>Discount_Applied</th>\n",
       "      <th>Revenue</th>\n",
       "      <th>Order_Date</th>\n",
       "      <th>Sales_Channel</th>\n",
       "      <th>Region</th>\n",
       "      <th>Profit</th>\n",
       "    </tr>\n",
       "  </thead>\n",
       "  <tbody>\n",
       "    <tr>\n",
       "      <th>12</th>\n",
       "      <td>2018</td>\n",
       "      <td>Kids</td>\n",
       "      <td>Lifestyle</td>\n",
       "      <td>Blazer Mid</td>\n",
       "      <td>NaN</td>\n",
       "      <td>-1.0</td>\n",
       "      <td>NaN</td>\n",
       "      <td>0.86</td>\n",
       "      <td>0.00</td>\n",
       "      <td>13-11-2024</td>\n",
       "      <td>Online</td>\n",
       "      <td>Delhi</td>\n",
       "      <td>2109.48</td>\n",
       "    </tr>\n",
       "    <tr>\n",
       "      <th>13</th>\n",
       "      <td>2013</td>\n",
       "      <td>Kids</td>\n",
       "      <td>Training</td>\n",
       "      <td>SuperRep Go</td>\n",
       "      <td>NaN</td>\n",
       "      <td>NaN</td>\n",
       "      <td>9671.05</td>\n",
       "      <td>NaN</td>\n",
       "      <td>0.00</td>\n",
       "      <td>19-09-2024</td>\n",
       "      <td>Online</td>\n",
       "      <td>hyderbad</td>\n",
       "      <td>299.34</td>\n",
       "    </tr>\n",
       "    <tr>\n",
       "      <th>15</th>\n",
       "      <td>2015</td>\n",
       "      <td>Kids</td>\n",
       "      <td>Basketball</td>\n",
       "      <td>Air Jordan</td>\n",
       "      <td>NaN</td>\n",
       "      <td>NaN</td>\n",
       "      <td>3285.52</td>\n",
       "      <td>NaN</td>\n",
       "      <td>0.00</td>\n",
       "      <td>31-05-2025</td>\n",
       "      <td>Retail</td>\n",
       "      <td>Kolkata</td>\n",
       "      <td>1193.21</td>\n",
       "    </tr>\n",
       "    <tr>\n",
       "      <th>31</th>\n",
       "      <td>2031</td>\n",
       "      <td>Men</td>\n",
       "      <td>Soccer</td>\n",
       "      <td>Premier III</td>\n",
       "      <td>NaN</td>\n",
       "      <td>4.0</td>\n",
       "      <td>3493.04</td>\n",
       "      <td>0.82</td>\n",
       "      <td>2514.99</td>\n",
       "      <td>2024-05-09</td>\n",
       "      <td>Online</td>\n",
       "      <td>Delhi</td>\n",
       "      <td>350.70</td>\n",
       "    </tr>\n",
       "    <tr>\n",
       "      <th>35</th>\n",
       "      <td>2035</td>\n",
       "      <td>Kids</td>\n",
       "      <td>Basketball</td>\n",
       "      <td>Zoom Freak</td>\n",
       "      <td>NaN</td>\n",
       "      <td>4.0</td>\n",
       "      <td>NaN</td>\n",
       "      <td>0.38</td>\n",
       "      <td>0.00</td>\n",
       "      <td>17-11-2024</td>\n",
       "      <td>Online</td>\n",
       "      <td>Bangalore</td>\n",
       "      <td>2914.83</td>\n",
       "    </tr>\n",
       "    <tr>\n",
       "      <th>...</th>\n",
       "      <td>...</td>\n",
       "      <td>...</td>\n",
       "      <td>...</td>\n",
       "      <td>...</td>\n",
       "      <td>...</td>\n",
       "      <td>...</td>\n",
       "      <td>...</td>\n",
       "      <td>...</td>\n",
       "      <td>...</td>\n",
       "      <td>...</td>\n",
       "      <td>...</td>\n",
       "      <td>...</td>\n",
       "      <td>...</td>\n",
       "    </tr>\n",
       "    <tr>\n",
       "      <th>2471</th>\n",
       "      <td>4471</td>\n",
       "      <td>Kids</td>\n",
       "      <td>Basketball</td>\n",
       "      <td>Zoom Freak</td>\n",
       "      <td>NaN</td>\n",
       "      <td>NaN</td>\n",
       "      <td>2184.95</td>\n",
       "      <td>NaN</td>\n",
       "      <td>0.00</td>\n",
       "      <td>2025/06/20</td>\n",
       "      <td>Online</td>\n",
       "      <td>Mumbai</td>\n",
       "      <td>3303.40</td>\n",
       "    </tr>\n",
       "    <tr>\n",
       "      <th>2472</th>\n",
       "      <td>4472</td>\n",
       "      <td>Women</td>\n",
       "      <td>Basketball</td>\n",
       "      <td>LeBron 20</td>\n",
       "      <td>NaN</td>\n",
       "      <td>2.0</td>\n",
       "      <td>6833.94</td>\n",
       "      <td>NaN</td>\n",
       "      <td>0.00</td>\n",
       "      <td>2024-08-12</td>\n",
       "      <td>Online</td>\n",
       "      <td>Hyd</td>\n",
       "      <td>-151.52</td>\n",
       "    </tr>\n",
       "    <tr>\n",
       "      <th>2478</th>\n",
       "      <td>4478</td>\n",
       "      <td>Women</td>\n",
       "      <td>Lifestyle</td>\n",
       "      <td>Air Force 1</td>\n",
       "      <td>NaN</td>\n",
       "      <td>4.0</td>\n",
       "      <td>7748.38</td>\n",
       "      <td>NaN</td>\n",
       "      <td>0.00</td>\n",
       "      <td>NaN</td>\n",
       "      <td>Retail</td>\n",
       "      <td>Kolkata</td>\n",
       "      <td>3416.84</td>\n",
       "    </tr>\n",
       "    <tr>\n",
       "      <th>2479</th>\n",
       "      <td>4479</td>\n",
       "      <td>Kids</td>\n",
       "      <td>Lifestyle</td>\n",
       "      <td>Air Force 1</td>\n",
       "      <td>NaN</td>\n",
       "      <td>NaN</td>\n",
       "      <td>7530.67</td>\n",
       "      <td>NaN</td>\n",
       "      <td>0.00</td>\n",
       "      <td>2024-12-04</td>\n",
       "      <td>Online</td>\n",
       "      <td>Kolkata</td>\n",
       "      <td>3209.42</td>\n",
       "    </tr>\n",
       "    <tr>\n",
       "      <th>2498</th>\n",
       "      <td>4498</td>\n",
       "      <td>Women</td>\n",
       "      <td>Training</td>\n",
       "      <td>ZoomX Invincible</td>\n",
       "      <td>NaN</td>\n",
       "      <td>4.0</td>\n",
       "      <td>5358.70</td>\n",
       "      <td>NaN</td>\n",
       "      <td>0.00</td>\n",
       "      <td>11-12-2024</td>\n",
       "      <td>Online</td>\n",
       "      <td>Mumbai</td>\n",
       "      <td>3352.29</td>\n",
       "    </tr>\n",
       "  </tbody>\n",
       "</table>\n",
       "<p>510 rows × 13 columns</p>\n",
       "</div>"
      ],
      "text/plain": [
       "      Order_ID Gender_Category Product_Line      Product_Name Size  \\\n",
       "12        2018            Kids    Lifestyle        Blazer Mid  NaN   \n",
       "13        2013            Kids     Training       SuperRep Go  NaN   \n",
       "15        2015            Kids   Basketball        Air Jordan  NaN   \n",
       "31        2031             Men       Soccer       Premier III  NaN   \n",
       "35        2035            Kids   Basketball        Zoom Freak  NaN   \n",
       "...        ...             ...          ...               ...  ...   \n",
       "2471      4471            Kids   Basketball        Zoom Freak  NaN   \n",
       "2472      4472           Women   Basketball         LeBron 20  NaN   \n",
       "2478      4478           Women    Lifestyle       Air Force 1  NaN   \n",
       "2479      4479            Kids    Lifestyle       Air Force 1  NaN   \n",
       "2498      4498           Women     Training  ZoomX Invincible  NaN   \n",
       "\n",
       "      Units_Sold      MRP  Discount_Applied  Revenue  Order_Date  \\\n",
       "12          -1.0      NaN              0.86     0.00  13-11-2024   \n",
       "13           NaN  9671.05               NaN     0.00  19-09-2024   \n",
       "15           NaN  3285.52               NaN     0.00  31-05-2025   \n",
       "31           4.0  3493.04              0.82  2514.99  2024-05-09   \n",
       "35           4.0      NaN              0.38     0.00  17-11-2024   \n",
       "...          ...      ...               ...      ...         ...   \n",
       "2471         NaN  2184.95               NaN     0.00  2025/06/20   \n",
       "2472         2.0  6833.94               NaN     0.00  2024-08-12   \n",
       "2478         4.0  7748.38               NaN     0.00         NaN   \n",
       "2479         NaN  7530.67               NaN     0.00  2024-12-04   \n",
       "2498         4.0  5358.70               NaN     0.00  11-12-2024   \n",
       "\n",
       "     Sales_Channel     Region   Profit  \n",
       "12          Online      Delhi  2109.48  \n",
       "13          Online   hyderbad   299.34  \n",
       "15          Retail    Kolkata  1193.21  \n",
       "31          Online      Delhi   350.70  \n",
       "35          Online  Bangalore  2914.83  \n",
       "...            ...        ...      ...  \n",
       "2471        Online     Mumbai  3303.40  \n",
       "2472        Online        Hyd  -151.52  \n",
       "2478        Retail    Kolkata  3416.84  \n",
       "2479        Online    Kolkata  3209.42  \n",
       "2498        Online     Mumbai  3352.29  \n",
       "\n",
       "[510 rows x 13 columns]"
      ]
     },
     "execution_count": 11,
     "metadata": {},
     "output_type": "execute_result"
    }
   ],
   "source": [
    "df[df['Size'].isnull()]"
   ]
  },
  {
   "cell_type": "code",
   "execution_count": 12,
   "id": "32ae263a-4bcc-4733-84be-59b3c0f7886a",
   "metadata": {},
   "outputs": [
    {
     "data": {
      "text/plain": [
       "array(['M', 'L', 'XL', '11', nan, '9', '6', '12', '7', '10', '8'],\n",
       "      dtype=object)"
      ]
     },
     "execution_count": 12,
     "metadata": {},
     "output_type": "execute_result"
    }
   ],
   "source": [
    "df['Size'].unique()"
   ]
  },
  {
   "cell_type": "code",
   "execution_count": null,
   "id": "6d9d0b41-1799-489b-a8a4-1adb2139117a",
   "metadata": {},
   "outputs": [],
   "source": []
  },
  {
   "cell_type": "markdown",
   "id": "2d46ae22-83fb-4cf0-9110-d056427329a8",
   "metadata": {},
   "source": [
    "#### Filling null values according to most coomon size according to product type\n",
    "df['Size'] = df.groupby('Product_Name')['Size'].transform(lambda x: x.fillna(x.mode()[0] if not x.mode().empty else 'M'))"
   ]
  },
  {
   "cell_type": "markdown",
   "id": "a6d7e6a5-09cd-4fad-904e-89f59ed4e96c",
   "metadata": {},
   "source": [
    "### Now check for Units Sold"
   ]
  },
  {
   "cell_type": "code",
   "execution_count": 13,
   "id": "0eecea70-fd87-4647-b23b-a1057e29eccc",
   "metadata": {},
   "outputs": [
    {
     "data": {
      "text/plain": [
       "array([nan,  3.,  4.,  1., -1.,  0.,  2.])"
      ]
     },
     "execution_count": 13,
     "metadata": {},
     "output_type": "execute_result"
    }
   ],
   "source": [
    "df['Units_Sold'].unique()"
   ]
  },
  {
   "cell_type": "markdown",
   "id": "bdf4379d-7d42-4933-b2f5-efd1ecaae99c",
   "metadata": {},
   "source": [
    "# I am filling these missing values according to units sold acc to different product line but before that i have (-1) - These values are definitely wrong outputs so we consider it as nan than fill it with median of value"
   ]
  },
  {
   "cell_type": "code",
   "execution_count": 14,
   "id": "a3d9b7d2-0b48-4f44-9993-d0169a3b9a6f",
   "metadata": {},
   "outputs": [
    {
     "name": "stderr",
     "output_type": "stream",
     "text": [
      "C:\\Users\\ajyad\\AppData\\Local\\Temp\\ipykernel_1396\\715293452.py:1: FutureWarning: A value is trying to be set on a copy of a DataFrame or Series through chained assignment using an inplace method.\n",
      "The behavior will change in pandas 3.0. This inplace method will never work because the intermediate object on which we are setting values always behaves as a copy.\n",
      "\n",
      "For example, when doing 'df[col].method(value, inplace=True)', try using 'df.method({col: value}, inplace=True)' or df[col] = df[col].method(value) instead, to perform the operation inplace on the original object.\n",
      "\n",
      "\n",
      "  df['Units_Sold'].replace(-1, np.nan, inplace=True)\n"
     ]
    }
   ],
   "source": [
    "df['Units_Sold'].replace(-1, np.nan, inplace=True)"
   ]
  },
  {
   "cell_type": "code",
   "execution_count": 15,
   "id": "b5707266-3591-46ef-bbb8-dfe749adbe38",
   "metadata": {},
   "outputs": [],
   "source": [
    "df['Units_Sold'] = df.groupby('Product_Line')['Units_Sold'].transform(lambda x: x.fillna(x.median()))"
   ]
  },
  {
   "cell_type": "markdown",
   "id": "0d568a55-b130-4f51-92fb-d815bc91cf7f",
   "metadata": {},
   "source": [
    "### For Dealing with NUll Values of MRP Columns - I am going to fill that data with mean value for every Product \n"
   ]
  },
  {
   "cell_type": "code",
   "execution_count": 16,
   "id": "22d4bfd5-74b4-46e2-8a10-02577c7e8faa",
   "metadata": {},
   "outputs": [
    {
     "data": {
      "text/plain": [
       "1244"
      ]
     },
     "execution_count": 16,
     "metadata": {},
     "output_type": "execute_result"
    }
   ],
   "source": [
    "df['MRP'].nunique()"
   ]
  },
  {
   "cell_type": "code",
   "execution_count": 17,
   "id": "d0d04cb9-a867-43f4-b4c9-72625fe439b3",
   "metadata": {},
   "outputs": [],
   "source": [
    "df['MRP'] = df.groupby('Product_Name')['MRP'].transform(lambda x: x.fillna(x.mean()))"
   ]
  },
  {
   "cell_type": "code",
   "execution_count": 18,
   "id": "816e2544-5cbf-4ba7-ae3e-60da56a2fecc",
   "metadata": {},
   "outputs": [
    {
     "data": {
      "text/plain": [
       "Order_ID               0\n",
       "Gender_Category        0\n",
       "Product_Line           0\n",
       "Product_Name           0\n",
       "Size                 510\n",
       "Units_Sold             0\n",
       "MRP                    0\n",
       "Discount_Applied    1668\n",
       "Revenue                0\n",
       "Order_Date           616\n",
       "Sales_Channel          0\n",
       "Region                 0\n",
       "Profit                 0\n",
       "dtype: int64"
      ]
     },
     "execution_count": 18,
     "metadata": {},
     "output_type": "execute_result"
    }
   ],
   "source": [
    "df.isnull().sum()"
   ]
  },
  {
   "cell_type": "markdown",
   "id": "2e6cff53-85b3-4d06-9974-d9234e0412ca",
   "metadata": {},
   "source": [
    "#### Column- Discount_Applied - "
   ]
  },
  {
   "cell_type": "code",
   "execution_count": 19,
   "id": "da215d44-5874-4440-a36b-2be6654ee54e",
   "metadata": {},
   "outputs": [
    {
     "data": {
      "text/plain": [
       "126"
      ]
     },
     "execution_count": 19,
     "metadata": {},
     "output_type": "execute_result"
    }
   ],
   "source": [
    "df['Discount_Applied'].nunique()"
   ]
  },
  {
   "cell_type": "markdown",
   "id": "6e47f0d4-f97c-450f-8220-bb73e4c73bc6",
   "metadata": {},
   "source": [
    "# I am going fill these values acc to median of different Products because we have to fill discount values in such a way to get optimal Solutions"
   ]
  },
  {
   "cell_type": "code",
   "execution_count": 20,
   "id": "5cde135f-1bad-43c5-9f83-7da31b995f98",
   "metadata": {},
   "outputs": [],
   "source": [
    "df['Discount_Applied'] = df.groupby('Product_Name')['Discount_Applied'].transform(lambda x: x.fillna(x.median()))"
   ]
  },
  {
   "cell_type": "code",
   "execution_count": 21,
   "id": "aaf0810d-282c-48cb-a396-32d25a62cc4a",
   "metadata": {},
   "outputs": [
    {
     "data": {
      "text/plain": [
       "Order_ID              0\n",
       "Gender_Category       0\n",
       "Product_Line          0\n",
       "Product_Name          0\n",
       "Size                510\n",
       "Units_Sold            0\n",
       "MRP                   0\n",
       "Discount_Applied      0\n",
       "Revenue               0\n",
       "Order_Date          616\n",
       "Sales_Channel         0\n",
       "Region                0\n",
       "Profit                0\n",
       "dtype: int64"
      ]
     },
     "execution_count": 21,
     "metadata": {},
     "output_type": "execute_result"
    }
   ],
   "source": [
    "df.isnull().sum()"
   ]
  },
  {
   "cell_type": "markdown",
   "id": "3b85f260-59e3-461b-b020-418c497410de",
   "metadata": {},
   "source": [
    "# For Order_Date Column , I am going to delete this column beacuse for my business questions there is no role of that and it is very difficult to predict which date i can fill here and it also impact answers of my business questions."
   ]
  },
  {
   "cell_type": "code",
   "execution_count": 22,
   "id": "f90a4a54-73fb-409b-a146-a82a81f285d9",
   "metadata": {},
   "outputs": [
    {
     "data": {
      "text/plain": [
       "0       2024-03-09\n",
       "1       2024-07-09\n",
       "2              NaN\n",
       "3       04-10-2024\n",
       "4       2024/09/12\n",
       "           ...    \n",
       "2495    2025-05-14\n",
       "2496           NaN\n",
       "2497    02-07-2025\n",
       "2498    11-12-2024\n",
       "2499    23-11-2024\n",
       "Name: Order_Date, Length: 2500, dtype: object"
      ]
     },
     "execution_count": 22,
     "metadata": {},
     "output_type": "execute_result"
    }
   ],
   "source": [
    "df['Order_Date']"
   ]
  },
  {
   "cell_type": "code",
   "execution_count": null,
   "id": "76ed4725-10d8-4d05-a89a-4cef96510253",
   "metadata": {},
   "outputs": [],
   "source": []
  },
  {
   "cell_type": "code",
   "execution_count": 23,
   "id": "7e344912-4c09-40d3-9c95-7b89b4d38069",
   "metadata": {},
   "outputs": [],
   "source": [
    "del df['Order_Date']"
   ]
  },
  {
   "cell_type": "code",
   "execution_count": 24,
   "id": "279a0cf3-32e0-48b7-90b6-edefa6fb5d6e",
   "metadata": {},
   "outputs": [
    {
     "data": {
      "text/plain": [
       "Order_ID              0\n",
       "Gender_Category       0\n",
       "Product_Line          0\n",
       "Product_Name          0\n",
       "Size                510\n",
       "Units_Sold            0\n",
       "MRP                   0\n",
       "Discount_Applied      0\n",
       "Revenue               0\n",
       "Sales_Channel         0\n",
       "Region                0\n",
       "Profit                0\n",
       "dtype: int64"
      ]
     },
     "execution_count": 24,
     "metadata": {},
     "output_type": "execute_result"
    }
   ],
   "source": [
    "df.isnull().sum()"
   ]
  },
  {
   "cell_type": "markdown",
   "id": "620969b8-45cf-49f7-bd4e-9c5ba6bb7e76",
   "metadata": {},
   "source": [
    "### Now no null Values in our data"
   ]
  },
  {
   "cell_type": "code",
   "execution_count": 25,
   "id": "50f2bca8-554c-469a-89b0-821f370987e8",
   "metadata": {},
   "outputs": [],
   "source": [
    "# Saving a file in another data frame\n",
    "df_copy =df.copy()"
   ]
  },
  {
   "cell_type": "code",
   "execution_count": 26,
   "id": "74af1aef-933e-48f5-a519-9663eb049938",
   "metadata": {},
   "outputs": [
    {
     "data": {
      "text/plain": [
       "Order_ID              0\n",
       "Gender_Category       0\n",
       "Product_Line          0\n",
       "Product_Name          0\n",
       "Size                510\n",
       "Units_Sold            0\n",
       "MRP                   0\n",
       "Discount_Applied      0\n",
       "Revenue               0\n",
       "Sales_Channel         0\n",
       "Region                0\n",
       "Profit                0\n",
       "dtype: int64"
      ]
     },
     "execution_count": 26,
     "metadata": {},
     "output_type": "execute_result"
    }
   ],
   "source": [
    "df_copy.isnull().sum()"
   ]
  },
  {
   "cell_type": "code",
   "execution_count": 27,
   "id": "7f938551-d1b1-45bd-92d0-01b189d47b8b",
   "metadata": {},
   "outputs": [
    {
     "name": "stdout",
     "output_type": "stream",
     "text": [
      "<class 'pandas.core.frame.DataFrame'>\n",
      "RangeIndex: 2500 entries, 0 to 2499\n",
      "Data columns (total 12 columns):\n",
      " #   Column            Non-Null Count  Dtype  \n",
      "---  ------            --------------  -----  \n",
      " 0   Order_ID          2500 non-null   int64  \n",
      " 1   Gender_Category   2500 non-null   object \n",
      " 2   Product_Line      2500 non-null   object \n",
      " 3   Product_Name      2500 non-null   object \n",
      " 4   Size              1990 non-null   object \n",
      " 5   Units_Sold        2500 non-null   float64\n",
      " 6   MRP               2500 non-null   float64\n",
      " 7   Discount_Applied  2500 non-null   float64\n",
      " 8   Revenue           2500 non-null   float64\n",
      " 9   Sales_Channel     2500 non-null   object \n",
      " 10  Region            2500 non-null   object \n",
      " 11  Profit            2500 non-null   float64\n",
      "dtypes: float64(5), int64(1), object(6)\n",
      "memory usage: 234.5+ KB\n"
     ]
    }
   ],
   "source": [
    "df_copy.info()"
   ]
  },
  {
   "cell_type": "code",
   "execution_count": 28,
   "id": "b5d78c6b-3170-477e-a7ea-592b43c83358",
   "metadata": {},
   "outputs": [
    {
     "data": {
      "text/html": [
       "<div>\n",
       "<style scoped>\n",
       "    .dataframe tbody tr th:only-of-type {\n",
       "        vertical-align: middle;\n",
       "    }\n",
       "\n",
       "    .dataframe tbody tr th {\n",
       "        vertical-align: top;\n",
       "    }\n",
       "\n",
       "    .dataframe thead th {\n",
       "        text-align: right;\n",
       "    }\n",
       "</style>\n",
       "<table border=\"1\" class=\"dataframe\">\n",
       "  <thead>\n",
       "    <tr style=\"text-align: right;\">\n",
       "      <th></th>\n",
       "      <th>Order_ID</th>\n",
       "      <th>Units_Sold</th>\n",
       "      <th>MRP</th>\n",
       "      <th>Discount_Applied</th>\n",
       "      <th>Revenue</th>\n",
       "      <th>Profit</th>\n",
       "    </tr>\n",
       "  </thead>\n",
       "  <tbody>\n",
       "    <tr>\n",
       "      <th>count</th>\n",
       "      <td>2500.000000</td>\n",
       "      <td>2500.000000</td>\n",
       "      <td>2500.000000</td>\n",
       "      <td>2500.000000</td>\n",
       "      <td>2500.000000</td>\n",
       "      <td>2500.000000</td>\n",
       "    </tr>\n",
       "    <tr>\n",
       "      <th>mean</th>\n",
       "      <td>3194.352400</td>\n",
       "      <td>1.984000</td>\n",
       "      <td>6031.631307</td>\n",
       "      <td>0.629200</td>\n",
       "      <td>274.873716</td>\n",
       "      <td>1376.012848</td>\n",
       "    </tr>\n",
       "    <tr>\n",
       "      <th>std</th>\n",
       "      <td>749.972638</td>\n",
       "      <td>0.923951</td>\n",
       "      <td>1644.670045</td>\n",
       "      <td>0.221818</td>\n",
       "      <td>2023.773550</td>\n",
       "      <td>1478.671013</td>\n",
       "    </tr>\n",
       "    <tr>\n",
       "      <th>min</th>\n",
       "      <td>2000.000000</td>\n",
       "      <td>0.000000</td>\n",
       "      <td>2006.630000</td>\n",
       "      <td>0.000000</td>\n",
       "      <td>-7561.590000</td>\n",
       "      <td>-1199.450000</td>\n",
       "    </tr>\n",
       "    <tr>\n",
       "      <th>25%</th>\n",
       "      <td>2534.750000</td>\n",
       "      <td>2.000000</td>\n",
       "      <td>5601.921667</td>\n",
       "      <td>0.530000</td>\n",
       "      <td>0.000000</td>\n",
       "      <td>93.532500</td>\n",
       "    </tr>\n",
       "    <tr>\n",
       "      <th>50%</th>\n",
       "      <td>3192.500000</td>\n",
       "      <td>2.000000</td>\n",
       "      <td>6076.365000</td>\n",
       "      <td>0.640000</td>\n",
       "      <td>0.000000</td>\n",
       "      <td>1371.385000</td>\n",
       "    </tr>\n",
       "    <tr>\n",
       "      <th>75%</th>\n",
       "      <td>3841.250000</td>\n",
       "      <td>2.000000</td>\n",
       "      <td>6446.707500</td>\n",
       "      <td>0.710000</td>\n",
       "      <td>0.000000</td>\n",
       "      <td>2660.645000</td>\n",
       "    </tr>\n",
       "    <tr>\n",
       "      <th>max</th>\n",
       "      <td>4499.000000</td>\n",
       "      <td>4.000000</td>\n",
       "      <td>9996.220000</td>\n",
       "      <td>1.250000</td>\n",
       "      <td>37169.350000</td>\n",
       "      <td>3999.210000</td>\n",
       "    </tr>\n",
       "  </tbody>\n",
       "</table>\n",
       "</div>"
      ],
      "text/plain": [
       "          Order_ID   Units_Sold          MRP  Discount_Applied       Revenue  \\\n",
       "count  2500.000000  2500.000000  2500.000000       2500.000000   2500.000000   \n",
       "mean   3194.352400     1.984000  6031.631307          0.629200    274.873716   \n",
       "std     749.972638     0.923951  1644.670045          0.221818   2023.773550   \n",
       "min    2000.000000     0.000000  2006.630000          0.000000  -7561.590000   \n",
       "25%    2534.750000     2.000000  5601.921667          0.530000      0.000000   \n",
       "50%    3192.500000     2.000000  6076.365000          0.640000      0.000000   \n",
       "75%    3841.250000     2.000000  6446.707500          0.710000      0.000000   \n",
       "max    4499.000000     4.000000  9996.220000          1.250000  37169.350000   \n",
       "\n",
       "            Profit  \n",
       "count  2500.000000  \n",
       "mean   1376.012848  \n",
       "std    1478.671013  \n",
       "min   -1199.450000  \n",
       "25%      93.532500  \n",
       "50%    1371.385000  \n",
       "75%    2660.645000  \n",
       "max    3999.210000  "
      ]
     },
     "execution_count": 28,
     "metadata": {},
     "output_type": "execute_result"
    }
   ],
   "source": [
    "df_copy.describe()"
   ]
  },
  {
   "cell_type": "markdown",
   "id": "d54b729c-f950-4cf2-8451-7f58063c33de",
   "metadata": {},
   "source": [
    "# Now Our Data ids Fullly cleaned Let's Solve Our 6 Business Problems Line by line."
   ]
  },
  {
   "cell_type": "markdown",
   "id": "28ab7302-e424-4dce-8b5e-33d950e3ee9f",
   "metadata": {},
   "source": [
    "#### Q1: Which product lines & product names generate the highest revenue and profit?"
   ]
  },
  {
   "cell_type": "markdown",
   "id": "43c385e9-e927-49dc-9f5e-d5d1f55b5435",
   "metadata": {},
   "source": [
    "#### Ans1: From the below graph we observed that highest revenue and profit are generated by Training."
   ]
  },
  {
   "cell_type": "code",
   "execution_count": 29,
   "id": "c0e5a8b5-8cce-4d0d-8ccf-9c5042cf5a0f",
   "metadata": {},
   "outputs": [
    {
     "name": "stdout",
     "output_type": "stream",
     "text": [
      "Revenue & Profit by Product Line:\n",
      "                 Revenue     Profit\n",
      "Product_Line                      \n",
      "Training      195552.89  737669.90\n",
      "Basketball    155292.42  676638.51\n",
      "Lifestyle     148870.70  694085.85\n",
      "Soccer        115392.33  673309.42\n",
      "Running        72075.95  658328.44 \n",
      "\n",
      "Top 10 Products by Revenue & Profit:\n",
      "                    Revenue     Profit\n",
      "Product_Name                         \n",
      "Flex Trainer      73009.78  199011.40\n",
      "LeBron 20         59109.67  220287.24\n",
      "Zoom Freak        50856.94  158534.89\n",
      "Air Zoom          50582.71  133342.99\n",
      "Waffle One        47169.32  178626.89\n",
      "Blazer Mid        45205.11  187250.68\n",
      "ZoomX Invincible  42358.77  186621.16\n",
      "SuperRep Go       42117.08  212719.79\n",
      "Metcon 7          38067.26  139317.55\n",
      "Air Jordan        37874.72  158481.74\n"
     ]
    }
   ],
   "source": [
    "#  Revenue & Profit by Product Line and Product Name\n",
    "prod_line_summary = df_copy.groupby(\"Product_Line\")[[\"Revenue\", \"Profit\"]].sum().sort_values(\"Revenue\", ascending=False)\n",
    "prod_name_summary = df_copy.groupby(\"Product_Name\")[[\"Revenue\", \"Profit\"]].sum().sort_values(\"Revenue\", ascending=False)\n",
    "\n",
    "print(\"Revenue & Profit by Product Line:\\n\", prod_line_summary, \"\\n\")\n",
    "print(\"Top 10 Products by Revenue & Profit:\\n\", prod_name_summary.head(10))\n"
   ]
  },
  {
   "cell_type": "code",
   "execution_count": 30,
   "id": "0b91eea2-21e4-437c-8849-cc3c69a5b033",
   "metadata": {},
   "outputs": [
    {
     "data": {
      "image/png": "[encoded data removed]",
      "text/plain": [
       "<Figure size 1000x500 with 1 Axes>"
      ]
     },
     "metadata": {},
     "output_type": "display_data"
    }
   ],
   "source": [
    "prod_line_summary.plot(kind=\"bar\", figsize=(10,5))\n",
    "plt.title(\"Revenue & Profit by Product Line\")\n",
    "plt.ylabel(\"Amount\")\n",
    "plt.show()\n"
   ]
  },
  {
   "cell_type": "markdown",
   "id": "16f8324a-8d10-4986-a942-4c977b7f5ca1",
   "metadata": {},
   "source": [
    "### Q2: How do online vs retail sales channels perform?"
   ]
  },
  {
   "cell_type": "markdown",
   "id": "57d92e9e-0288-4ecb-b524-12cfda1f64e3",
   "metadata": {},
   "source": [
    "#### Ans2: As we can see that both of them have equal number of revenue and profit."
   ]
  },
  {
   "cell_type": "code",
   "execution_count": 31,
   "id": "bd332f51-b9a0-4848-8c77-1d4ffa4baa63",
   "metadata": {},
   "outputs": [
    {
     "name": "stdout",
     "output_type": "stream",
     "text": [
      "Revenue & Profit by Sales Channel:\n",
      "                  Revenue      Profit\n",
      "Sales_Channel                       \n",
      "Online         378183.10  1713187.35\n",
      "Retail         309001.19  1726844.77\n"
     ]
    }
   ],
   "source": [
    "channel_summary = df_copy.groupby(\"Sales_Channel\")[[\"Revenue\", \"Profit\"]].sum()\n",
    "print(\"Revenue & Profit by Sales Channel:\\n\", channel_summary)\n"
   ]
  },
  {
   "cell_type": "code",
   "execution_count": 32,
   "id": "e87b8a22-220f-472c-bbf5-650859aecceb",
   "metadata": {},
   "outputs": [
    {
     "data": {
      "image/png": "[encoded data removed]",
      "text/plain": [
       "<Figure size 600x400 with 1 Axes>"
      ]
     },
     "metadata": {},
     "output_type": "display_data"
    }
   ],
   "source": [
    "channel_summary.plot(kind=\"bar\", figsize=(6,4))\n",
    "plt.title(\"Revenue & Profit by Sales Channel\")\n",
    "plt.ylabel(\"Amount\")\n",
    "plt.show()\n"
   ]
  },
  {
   "cell_type": "code",
   "execution_count": 33,
   "id": "6fca7cdc-5a45-4835-95ff-49ded9adaef4",
   "metadata": {},
   "outputs": [
    {
     "name": "stdout",
     "output_type": "stream",
     "text": [
      "Revenue & Profit by Region:\n",
      "              Revenue     Profit\n",
      "Region                         \n",
      "Kolkata    168600.77  602856.74\n",
      "Pune       101177.27  533414.77\n",
      "hyderbad    96266.85  188976.50\n",
      "Mumbai      94999.07  569568.34\n",
      "Delhi       94972.17  587148.93\n",
      "Bangalore   55366.98  326694.84\n",
      "bengaluru   47378.58  295253.90\n",
      "Hyderabad   27775.70  154639.18\n",
      "Hyd           646.90  181478.92\n"
     ]
    }
   ],
   "source": [
    "region_summary = df_copy.groupby(\"Region\")[[\"Revenue\", \"Profit\"]].sum().sort_values(\"Revenue\", ascending=False)\n",
    "print(\"Revenue & Profit by Region:\\n\", region_summary)\n"
   ]
  },
  {
   "cell_type": "markdown",
   "id": "960b2459-c6a9-47fe-88ab-b3d6edd5d3d8",
   "metadata": {},
   "source": [
    "### Q3: Which regions contribute most to sales and profitability?"
   ]
  },
  {
   "cell_type": "markdown",
   "id": "d1d4b254-312b-4fdd-8b82-e5e110537597",
   "metadata": {},
   "source": [
    "##### Ans3. Kolkata have generate highest number of sales & profits, then Delhi is in second position, Mumbai lies in 3rd position."
   ]
  },
  {
   "cell_type": "code",
   "execution_count": 34,
   "id": "3c806f98-0c78-437f-b38c-786e940fdba6",
   "metadata": {},
   "outputs": [
    {
     "data": {
      "image/png": "[encoded data removed]",
      "text/plain": [
       "<Figure size 1000x500 with 1 Axes>"
      ]
     },
     "metadata": {},
     "output_type": "display_data"
    }
   ],
   "source": [
    "region_summary.plot(kind=\"bar\", figsize=(10,5))\n",
    "plt.title(\"Revenue & Profit by Region\")\n",
    "plt.ylabel(\"Amount\")\n",
    "plt.show()\n"
   ]
  },
  {
   "cell_type": "markdown",
   "id": "836a1187-b000-4f0a-a769-c6c45fd02e07",
   "metadata": {},
   "source": [
    "### Q4: Which gender category buys the most units and contributes most to revenue?"
   ]
  },
  {
   "cell_type": "markdown",
   "id": "de9f5ce0-f4e0-41b1-9cb7-f0d3ef107a91",
   "metadata": {},
   "source": [
    "#### Ans4: Mens have given the most contribution in revenue"
   ]
  },
  {
   "cell_type": "code",
   "execution_count": 35,
   "id": "71a768a4-2afd-4213-b918-08f2723dbd34",
   "metadata": {},
   "outputs": [
    {
     "name": "stdout",
     "output_type": "stream",
     "text": [
      "Units Sold & Revenue by Gender Category:\n",
      "                  Units_Sold    Revenue\n",
      "Gender_Category                       \n",
      "Kids                 1658.0  193129.23\n",
      "Men                  1684.0  261454.48\n",
      "Women                1618.0  232600.58\n"
     ]
    }
   ],
   "source": [
    "gender_summary = df_copy.groupby(\"Gender_Category\")[[\"Units_Sold\", \"Revenue\"]].sum()\n",
    "print(\"Units Sold & Revenue by Gender Category:\\n\", gender_summary)\n"
   ]
  },
  {
   "cell_type": "code",
   "execution_count": 36,
   "id": "ced30647-dd85-4480-b62d-e98785b2f10d",
   "metadata": {},
   "outputs": [
    {
     "data": {
      "image/png": "[encoded data removed]",
      "text/plain": [
       "<Figure size 600x400 with 1 Axes>"
      ]
     },
     "metadata": {},
     "output_type": "display_data"
    }
   ],
   "source": [
    "gender_summary.plot(kind=\"bar\", figsize=(6,4))\n",
    "plt.title(\"Units Sold & Revenue by Gender Category\")\n",
    "plt.ylabel(\"Amount\")\n",
    "plt.show()\n"
   ]
  },
  {
   "cell_type": "markdown",
   "id": "2bf4f9d4-0628-480d-92b2-e2f7a116b0e2",
   "metadata": {},
   "source": [
    "### Q5: Do discounts increase sales volume or hurt profitability?"
   ]
  },
  {
   "cell_type": "markdown",
   "id": "ff9b851a-319d-496f-b364-d292fd13b828",
   "metadata": {},
   "source": [
    "#### Ans. Discounts hardly affect sales volume or profit, according to the correlation results (correlation values are very near to 0). This shows that using discounts in this dataset has little or no effect on profitability or a large increase in units sold."
   ]
  },
  {
   "cell_type": "code",
   "execution_count": 37,
   "id": "ec2663f7-f5da-4fba-a236-fb847e6c5be3",
   "metadata": {},
   "outputs": [
    {
     "name": "stdout",
     "output_type": "stream",
     "text": [
      "Correlation between Discount, Units Sold & Profit:\n",
      "                   Discount_Applied  Units_Sold    Profit\n",
      "Discount_Applied          1.000000    0.016417  0.008582\n",
      "Units_Sold                0.016417    1.000000  0.009701\n",
      "Profit                    0.008582    0.009701  1.000000\n"
     ]
    }
   ],
   "source": [
    "discount_corr = df_copy[[\"Discount_Applied\", \"Units_Sold\", \"Profit\"]].corr()\n",
    "print(\"Correlation between Discount, Units Sold & Profit:\\n\", discount_corr)\n"
   ]
  },
  {
   "cell_type": "code",
   "execution_count": 38,
   "id": "3b66ceb6-e57f-4166-853a-69cee1e7ccee",
   "metadata": {},
   "outputs": [
    {
     "data": {
      "image/png": "[encoded data removed]",
      "text/plain": [
       "<Figure size 600x400 with 2 Axes>"
      ]
     },
     "metadata": {},
     "output_type": "display_data"
    }
   ],
   "source": [
    "plt.figure(figsize=(6,4))\n",
    "sns.heatmap(discount_corr, annot=True, cmap=\"coolwarm\", fmt=\".2f\")\n",
    "plt.title(\"Correlation: Discount, Units Sold, Profit\")\n",
    "plt.show()\n"
   ]
  },
  {
   "cell_type": "markdown",
   "id": "4090b386-3284-40ff-82c0-81ecf7c5269f",
   "metadata": {},
   "source": [
    "## Q6: What product sizes are most popular?"
   ]
  },
  {
   "cell_type": "markdown",
   "id": "9ec696fe-53ea-4bd3-bd33-20a96402b11c",
   "metadata": {},
   "source": [
    "#### Ans. Since they sell the most units and bring in the most money, the most popular product sizes are L, M, and XL. Smaller sizes—such as 6, 8, 9, 10, and thus on—are less common and make up a much smaller portion of sales. So Large size drives the majority of sales and revenue."
   ]
  },
  {
   "cell_type": "code",
   "execution_count": 39,
   "id": "73066e7e-9743-4915-a224-fad11c29af17",
   "metadata": {},
   "outputs": [
    {
     "name": "stdout",
     "output_type": "stream",
     "text": [
      "Units Sold & Revenue by Size:\n",
      "       Units_Sold    Revenue\n",
      "Size                       \n",
      "L         1024.0   94954.89\n",
      "XL        1001.0  151540.85\n",
      "M          950.0  159883.71\n",
      "7          183.0   42740.38\n",
      "10         150.0   10350.77\n",
      "11         145.0   20556.59\n",
      "9          135.0   14950.20\n",
      "12         127.0     328.47\n",
      "8          120.0   16137.23\n",
      "6          110.0   18023.50\n"
     ]
    }
   ],
   "source": [
    "size_summary = df_copy.groupby(\"Size\")[[\"Units_Sold\", \"Revenue\"]].sum().sort_values(\"Units_Sold\", ascending=False)\n",
    "print(\"Units Sold & Revenue by Size:\\n\", size_summary)\n"
   ]
  },
  {
   "cell_type": "code",
   "execution_count": 40,
   "id": "c8526fd2-9faf-4d5e-b84c-c7ddfa5bb7bb",
   "metadata": {},
   "outputs": [
    {
     "data": {
      "image/png": "[encoded data removed]",
      "text/plain": [
       "<Figure size 1000x500 with 1 Axes>"
      ]
     },
     "metadata": {},
     "output_type": "display_data"
    }
   ],
   "source": [
    "size_summary.plot(kind=\"bar\", figsize=(10,5))\n",
    "plt.title(\"Units Sold & Revenue by Size\")\n",
    "plt.ylabel(\"Amount\")\n",
    "plt.show()\n"
   ]
  },
  {
   "cell_type": "markdown",
   "id": "14cdab0e-d4d1-4c58-b5d8-55909d38d80f",
   "metadata": {},
   "source": [
    "## Conclusion and Discussion\n",
    "\n",
    "#### I used a disorganized, unclean Nike sales dataset for this project and then turned it into meaningful knowledge. Cleaning the data, examining trends, and assessing the effects of variables like sales channels, product sizes, and discounts on business results were the primary goals.\n",
    "\n",
    "#### I determined from the analysis that discounts had no impact on raising profitability or sales volume. This means that discounts may not always equate to improved sales performance, even though they may grab attention. Larger product sizes, particularly L, M, and XL, were the most popular with consumers and brought in the big amount of money, according to another significant discovery. Nike may be able to maximize inventory by concentrating more on sizes with high demand if smaller sizes contributed less.\n",
    "\n",
    "#### All things considered, this project demonstrated how unstructured corporate data can be processed, cleansed, and examined to get insightful information. Such information is useful for companies like Nike, a global brand, when it comes to pricing, promotions, and inventory planning."
   ]
  },
  {
   "cell_type": "code",
   "execution_count": null,
   "id": "53a2eac5-265c-4479-be24-2c9d7a1542ea",
   "metadata": {},
   "outputs": [],
   "source": []
  }
 ],
 "metadata": {
  "kernelspec": {
   "display_name": "Python [conda env:base] *",
   "language": "python",
   "name": "conda-base-py"
  },
  "language_info": {
   "codemirror_mode": {
    "name": "ipython",
    "version": 3
   },
   "file_extension": ".py",
   "mimetype": "text/x-python",
   "name": "python",
   "nbconvert_exporter": "python",
   "pygments_lexer": "ipython3",
   "version": "3.13.5"
  }
 },
 "nbformat": 4,
 "nbformat_minor": 5
}
